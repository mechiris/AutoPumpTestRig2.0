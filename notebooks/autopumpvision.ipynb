{
 "cells": [
  {
   "cell_type": "code",
   "execution_count": null,
   "metadata": {
    "collapsed": false
   },
   "outputs": [],
   "source": [
    "%load_ext autoreload\n",
    "%autoreload 2\n",
    "%pylab inline\n",
    "%matplotlib inline\n",
    "from SimpleCV import *\n",
    "disp = Display(displaytype='notebook')\n",
    "import seaborn as sns\n",
    "import glob\n",
    "import json"
   ]
  },
  {
   "cell_type": "code",
   "execution_count": null,
   "metadata": {
    "collapsed": false
   },
   "outputs": [],
   "source": [
    "from autopump import autopump"
   ]
  },
  {
   "cell_type": "code",
   "execution_count": null,
   "metadata": {
    "collapsed": false
   },
   "outputs": [],
   "source": [
    "AP = autopump.AutoPump()"
   ]
  },
  {
   "cell_type": "code",
   "execution_count": null,
   "metadata": {
    "collapsed": false
   },
   "outputs": [],
   "source": [
    "def returnCalibrationCurve(imgdir):\n",
    "    #returns calibration curve from an image directory.  Assumes imgs are named XXml.jpg where XX is the volumne in ml\n",
    "    imgs = glob.glob(imgdir + '/*.*')\n",
    "    vols = list()\n",
    "    out = list()\n",
    "    for imgfile in imgs:\n",
    "#        img = Image(imgfile)\n",
    "#        AP.img = img\n",
    "        out.append(AP.processVision(imgfile))\n",
    "        vols.append(imgfile.split('ml')[0].split('/')[-1])\n",
    "    out = np.array(out)\n",
    "    return [out,np.array(vols).astype('int64')]"
   ]
  },
  {
   "cell_type": "code",
   "execution_count": null,
   "metadata": {
    "collapsed": false
   },
   "outputs": [],
   "source": [
    "returnCalibrationCurve('/Users/ryan/Code/DataDumps/AutoPump/camtesting/vision2/cal/calcurve3/run2/')"
   ]
  },
  {
   "cell_type": "code",
   "execution_count": null,
   "metadata": {
    "collapsed": false
   },
   "outputs": [],
   "source": [
    "out1,vols1 = returnCalibrationCurve('/Users/ryan/Code/DataDumps/AutoPump/camtesting/vision2/cal/calcurve3/run1/')\n",
    "out2,vols2 = returnCalibrationCurve('/Users/ryan/Code/DataDumps/AutoPump/camtesting/vision2/cal/calcurve3/run2/')\n",
    "#out3,vols3 = returnCalibrationCurve('GaugeRR/run3/')"
   ]
  },
  {
   "cell_type": "code",
   "execution_count": null,
   "metadata": {
    "collapsed": false
   },
   "outputs": [],
   "source": [
    "fit = np.polyfit(out1[:,0], np.array(vols1),1)"
   ]
  },
  {
   "cell_type": "code",
   "execution_count": null,
   "metadata": {
    "collapsed": false
   },
   "outputs": [],
   "source": [
    "fit"
   ]
  },
  {
   "cell_type": "code",
   "execution_count": null,
   "metadata": {
    "collapsed": false
   },
   "outputs": [],
   "source": [
    "AP.saveConfig()"
   ]
  },
  {
   "cell_type": "code",
   "execution_count": null,
   "metadata": {
    "collapsed": false
   },
   "outputs": [],
   "source": [
    "#del tmp['img']\n",
    "tmp['breathCounter'] = tmp['breathCounter'].value"
   ]
  },
  {
   "cell_type": "code",
   "execution_count": null,
   "metadata": {
    "collapsed": false
   },
   "outputs": [],
   "source": [
    "tmp.keys()"
   ]
  },
  {
   "cell_type": "code",
   "execution_count": null,
   "metadata": {
    "collapsed": false
   },
   "outputs": [],
   "source": [
    "tmp"
   ]
  },
  {
   "cell_type": "code",
   "execution_count": null,
   "metadata": {
    "collapsed": true
   },
   "outputs": [],
   "source": [
    "tmp['img'] = []"
   ]
  },
  {
   "cell_type": "code",
   "execution_count": null,
   "metadata": {
    "collapsed": false
   },
   "outputs": [],
   "source": [
    "tmp = AP.__dict__"
   ]
  },
  {
   "cell_type": "code",
   "execution_count": null,
   "metadata": {
    "collapsed": false
   },
   "outputs": [],
   "source": [
    "fit"
   ]
  },
  {
   "cell_type": "code",
   "execution_count": null,
   "metadata": {
    "collapsed": false
   },
   "outputs": [],
   "source": [
    "np.polyval(fit,800)"
   ]
  },
  {
   "cell_type": "code",
   "execution_count": null,
   "metadata": {
    "collapsed": false
   },
   "outputs": [],
   "source": [
    "fit"
   ]
  },
  {
   "cell_type": "code",
   "execution_count": null,
   "metadata": {
    "collapsed": true
   },
   "outputs": [],
   "source": [
    "fity = np.linspace(1300,100)\n",
    "fitx = list()\n",
    "for fy in fity:\n",
    "    fitx.append(np.polyval(fit,fy))"
   ]
  },
  {
   "cell_type": "code",
   "execution_count": null,
   "metadata": {
    "collapsed": false
   },
   "outputs": [],
   "source": [
    "plt.figure(figsize=(10,8))\n",
    "plt.plot(fitx,fity,'--',label='fit')\n",
    "plt.plot(vols1,out1[:,0],'d',markersize=8,label='run1')\n",
    "plt.plot(vols2,out2[:,0],'d',markersize=8,label='run2')\n",
    "#plt.plot(vols3,out3[:,0],'d',markersize=8,label='run3',)\n",
    "plt.legend()\n",
    "#plt.legend({'fit','run1','run2','run3'})\n",
    "plt.axis([200,550,0,1600])\n",
    "plt.xlabel('ml pumped')\n",
    "plt.ylabel('y position (pixels)')\n",
    "plt.show()"
   ]
  },
  {
   "cell_type": "code",
   "execution_count": null,
   "metadata": {
    "collapsed": false
   },
   "outputs": [],
   "source": [
    "img = Image('115ml.jpg')\n",
    "img = img.rotate270()\n",
    "cylinder = img.crop([100,480,400,2000])\n",
    "ballimg = cylinder.hueDistance(color=(130,110,55)).invert()\n",
    "channels = cylinder.splitChannels()\n",
    "#blobs = red_channel.findBlobs(threshold)"
   ]
  },
  {
   "cell_type": "code",
   "execution_count": null,
   "metadata": {
    "collapsed": false
   },
   "outputs": [],
   "source": [
    "imgdir = '/Users/ryan/Code/DataDumps/AutoPump/camtesting/vision2/cal/calcurve2/run3/'\n",
    "imgs = glob.glob(imgdir + '/*.*')\n",
    "outvals = list()\n",
    "thresh = -0.005\n",
    "for i in imgs:\n",
    "    img = Image(i)\n",
    "    img = img.rotate270()\n",
    "\n",
    "    cylinder = img.crop([250,950,300,2000]) #extents for image \n",
    "    bluechan = cylinder.getNumpy()[:,:,0]\n",
    "    bluechan = bluechan.mean(axis=1)\n",
    "    smoothb = smooth(bluechan,window_len=50)\n",
    "    try:\n",
    "        ballheight = np.nonzero(np.diff(diff(smoothb)) < thresh)[0][0] #get first y value that exceeds thrshold \n",
    "    except:\n",
    "        logging.warning('Machine vision failure: ball not detected')\n",
    "        ballheight = -1\n",
    "    outvals.append(ballheight)\n"
   ]
  },
  {
   "cell_type": "code",
   "execution_count": null,
   "metadata": {
    "collapsed": false
   },
   "outputs": [],
   "source": [
    "outvals"
   ]
  },
  {
   "cell_type": "code",
   "execution_count": null,
   "metadata": {
    "collapsed": false
   },
   "outputs": [],
   "source": [
    "img = Image('/Users/ryan/Code/DataDumps/AutoPump/camtesting/vision2/cal/calcurve3/run1/0ml.jpg')\n",
    "#img = Image('../../../DataDumps/AutoPump/camtesting/pingpong/GaugeRR/run1/115ml.jpg')\n",
    "img = img.rotate270()\n",
    "\n",
    "cylinder = img.crop([250,950,300,2000]) #extents for image \n",
    "bluechan = cylinder.getNumpy()[:,:,0]\n",
    "bluechan = bluechan.mean(axis=1)\n",
    "smoothb = smooth(bluechan,window_len=50)\n",
    "try:\n",
    "    ballheight = np.nonzero(np.diff(smoothb) < -0.15)[0][0] #get first y value that exceeds thrshold \n",
    "except:\n",
    "    logging.warning('Machine vision failure: ball not detected')\n",
    "    ballheight = -1\n",
    "\n",
    "#mls = ballheight * self.heightToMl"
   ]
  },
  {
   "cell_type": "code",
   "execution_count": null,
   "metadata": {
    "collapsed": false
   },
   "outputs": [],
   "source": [
    "cylinder.save(disp)"
   ]
  },
  {
   "cell_type": "code",
   "execution_count": null,
   "metadata": {
    "collapsed": false
   },
   "outputs": [],
   "source": [
    "plt.plot(smoothb)"
   ]
  },
  {
   "cell_type": "code",
   "execution_count": null,
   "metadata": {
    "collapsed": false
   },
   "outputs": [],
   "source": [
    "plt.plot(diff(diff(smoothb)))"
   ]
  },
  {
   "cell_type": "code",
   "execution_count": null,
   "metadata": {
    "collapsed": false
   },
   "outputs": [],
   "source": [
    "plt.plot(diff(smoothb))\n",
    "plt.hlines(-0.25,0,1800)\n",
    "plt.axis([0, 2000, -0.6, 0.8])"
   ]
  },
  {
   "cell_type": "code",
   "execution_count": null,
   "metadata": {
    "collapsed": false
   },
   "outputs": [],
   "source": [
    "ballheight"
   ]
  },
  {
   "cell_type": "code",
   "execution_count": null,
   "metadata": {
    "collapsed": false
   },
   "outputs": [],
   "source": [
    "cylinder.save(disp)"
   ]
  },
  {
   "cell_type": "code",
   "execution_count": null,
   "metadata": {
    "collapsed": false
   },
   "outputs": [],
   "source": [
    "r = cylinder.getNumpy()[:,:,2]\n",
    "r = r.mean(axis=1)\n",
    "g = cylinder.getNumpy()[:,:,1]\n",
    "g = g.mean(axis=1)\n",
    "b = cylinder.getNumpy()[:,:,0]\n",
    "b = b.mean(axis=1)\n",
    "\n"
   ]
  },
  {
   "cell_type": "code",
   "execution_count": null,
   "metadata": {
    "collapsed": false
   },
   "outputs": [],
   "source": [
    "plt.plot(r,'r')\n",
    "plt.plot(g,'g')\n",
    "plt.plot(b,'b')"
   ]
  },
  {
   "cell_type": "code",
   "execution_count": null,
   "metadata": {
    "collapsed": true
   },
   "outputs": [],
   "source": [
    "def smooth(x,window_len=11,window='hanning'):\n",
    "        if x.ndim != 1:\n",
    "                raise ValueError, \"smooth only accepts 1 dimension arrays.\"\n",
    "        if x.size < window_len:\n",
    "                raise ValueError, \"Input vector needs to be bigger than window size.\"\n",
    "        if window_len<3:\n",
    "                return x\n",
    "        if not window in ['flat', 'hanning', 'hamming', 'bartlett', 'blackman']:\n",
    "                raise ValueError, \"Window is on of 'flat', 'hanning', 'hamming', 'bartlett', 'blackman'\"\n",
    "        s=numpy.r_[2*x[0]-x[window_len-1::-1],x,2*x[-1]-x[-1:-window_len:-1]]\n",
    "        if window == 'flat': #moving average\n",
    "                w=numpy.ones(window_len,'d')\n",
    "        else:  \n",
    "                w=eval('numpy.'+window+'(window_len)')\n",
    "        y=numpy.convolve(w/w.sum(),s,mode='same')\n",
    "        return y[window_len:-window_len+1]"
   ]
  },
  {
   "cell_type": "code",
   "execution_count": null,
   "metadata": {
    "collapsed": true
   },
   "outputs": [],
   "source": [
    "smoothb = smooth(b,window_len=50)"
   ]
  },
  {
   "cell_type": "code",
   "execution_count": null,
   "metadata": {
    "collapsed": false
   },
   "outputs": [],
   "source": [
    "plt.plot(smoothb)"
   ]
  },
  {
   "cell_type": "code",
   "execution_count": null,
   "metadata": {
    "collapsed": false
   },
   "outputs": [],
   "source": [
    "#plt.plot(tmp)\n",
    "plt.plot(np.diff(smoothb))"
   ]
  },
  {
   "cell_type": "code",
   "execution_count": null,
   "metadata": {
    "collapsed": false
   },
   "outputs": [],
   "source": [
    "np.nonzero(np.diff(smoothb) < -0.15)[0][0]"
   ]
  },
  {
   "cell_type": "code",
   "execution_count": null,
   "metadata": {
    "collapsed": false
   },
   "outputs": [],
   "source": [
    "cylinder.save(disp)"
   ]
  },
  {
   "cell_type": "code",
   "execution_count": null,
   "metadata": {
    "collapsed": true
   },
   "outputs": [],
   "source": []
  }
 ],
 "metadata": {
  "kernelspec": {
   "display_name": "Python 2",
   "language": "python",
   "name": "python2"
  },
  "language_info": {
   "codemirror_mode": {
    "name": "ipython",
    "version": 2
   },
   "file_extension": ".py",
   "mimetype": "text/x-python",
   "name": "python",
   "nbconvert_exporter": "python",
   "pygments_lexer": "ipython2",
   "version": "2.7.10"
  }
 },
 "nbformat": 4,
 "nbformat_minor": 0
}
